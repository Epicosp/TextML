{
 "cells": [
  {
   "cell_type": "code",
   "execution_count": 17,
   "id": "caf4cf7c",
   "metadata": {},
   "outputs": [],
   "source": [
    "#imports\n",
    "import time\n",
    "import os\n",
    "import requests\n",
    "import json\n",
    "import pandas as pd"
   ]
  },
  {
   "cell_type": "code",
   "execution_count": 18,
   "id": "96a3fd25",
   "metadata": {},
   "outputs": [],
   "source": [
    "# Make API call, query the database by abstract search.\n",
    "def core_api_call(api_key,query):\n",
    "    payload = {\"abstract\":str(query)}\n",
    "    # payload in json format\n",
    "    payload_json = json.dumps(payload)\n",
    "    url = 'https://api.core.ac.uk/v3/recommend?apiKey='+api_key\n",
    "    #return api call in json format\n",
    "    response = requests.post(url,payload_json).json()\n",
    "    return response"
   ]
  },
  {
   "cell_type": "code",
   "execution_count": 19,
   "id": "fa75d70b",
   "metadata": {},
   "outputs": [],
   "source": [
    "# save response as CSV\n",
    "def save_response(api_response, name):\n",
    "    df = pd.DataFrame(api_response)\n",
    "    df.to_csv('API_responses/'+str(name)+'.csv', index = False)"
   ]
  },
  {
   "cell_type": "code",
   "execution_count": 20,
   "id": "e4c544a6",
   "metadata": {},
   "outputs": [],
   "source": [
    "# use API key stored in environment variables\n",
    "if __name__ == \"__main__\":\n",
    "    API_KEY = os.getenv('CORE_API_KEY')\n",
    "    queries = ['Blockchain',\n",
    "    'Cryptocurrency',\n",
    "    'Genetic engineering',\n",
    "    'Machine learning',\n",
    "    'Nanotechnology',\n",
    "    'Quantum computing',\n",
    "    'Robotics',\n",
    "    'Social engineering',\n",
    "    'Space exploration',\n",
    "    'Virtual reality']\n",
    "    for q in queries:\n",
    "        data = core_api_call(API_KEY, q)\n",
    "        # sleep 1 second to allow time for database to return a response.\n",
    "        time.sleep(1)\n",
    "        save_response(data, q)\n",
    "        \n",
    "         "
   ]
  }
 ],
 "metadata": {
  "kernelspec": {
   "display_name": "Python 3",
   "language": "python",
   "name": "python3"
  },
  "language_info": {
   "codemirror_mode": {
    "name": "ipython",
    "version": 3
   },
   "file_extension": ".py",
   "mimetype": "text/x-python",
   "name": "python",
   "nbconvert_exporter": "python",
   "pygments_lexer": "ipython3",
   "version": "3.7.11"
  }
 },
 "nbformat": 4,
 "nbformat_minor": 5
}
