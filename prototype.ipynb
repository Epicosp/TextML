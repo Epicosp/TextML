{
 "cells": [
  {
   "cell_type": "markdown",
   "metadata": {},
   "source": [
    "### A prototyping notebook for quickly testing and troubleshooting new functions or issues"
   ]
  },
  {
   "cell_type": "markdown",
   "metadata": {},
   "source": [
    "#### Imports"
   ]
  },
  {
   "cell_type": "code",
   "execution_count": 1,
   "metadata": {},
   "outputs": [],
   "source": [
    "import src.api_call as ac\n",
    "import pandas as pd\n",
    "import src.text_process as tp\n",
    "from sklearn.model_selection import train_test_split\n",
    "from src.bert_model import BertModel\n",
    "from pathlib import Path\n",
    "import tensorflow as tf\n",
    "import tensorflow_text as tf_text\n",
    "import matplotlib.pyplot as plt\n",
    "import seaborn as sns\n",
    "import tensorflow_hub as hub\n",
    "import numpy as np\n",
    "from sklearn.metrics import confusion_matrix"
   ]
  },
  {
   "cell_type": "markdown",
   "metadata": {},
   "source": [
    "#### API test section"
   ]
  },
  {
   "cell_type": "code",
   "execution_count": 17,
   "metadata": {},
   "outputs": [
    {
     "name": "stdout",
     "output_type": "stream",
     "text": [
      "Using local text files\n"
     ]
    }
   ],
   "source": [
    "# Change to true if testing API code\n",
    "testing_api = False\n",
    "if testing_api:\n",
    "    ''' include API test code here'''\n",
    "\n",
    "else:\n",
    "    # Default to locally saved text data\n",
    "    print ('Using local text files')\n",
    "    test_set = {\n",
    "    'Blockchain':0,\n",
    "    'Cryptocurrency':1, \n",
    "    'Genetic engineering':2, \n",
    "    'Machine learning':3, \n",
    "    'Nanotechnology':4, \n",
    "    'Quantum computing':5, \n",
    "    'Robotics':6, \n",
    "    'Social engineering':7, \n",
    "    'Space exploration':8, \n",
    "    'Virtual reality':9\n",
    "    }\n",
    "    \n"
   ]
  },
  {
   "cell_type": "markdown",
   "metadata": {},
   "source": [
    "#### Text processing"
   ]
  },
  {
   "cell_type": "code",
   "execution_count": 3,
   "metadata": {},
   "outputs": [
    {
     "name": "stdout",
     "output_type": "stream",
     "text": [
      "using locally saved data\n"
     ]
    }
   ],
   "source": [
    "# Change to true if testing text processing\n",
    "testing_text_process = False\n",
    "\n",
    "if testing_text_process:\n",
    "    '''text processing tests here'''\n",
    "else:\n",
    "    # Default to saved preprocessed text used in control model\n",
    "    print ('using locally saved data')\n",
    "    all_text = pd.read_csv('control/sample_data/clean_data.csv')"
   ]
  },
  {
   "cell_type": "markdown",
   "metadata": {},
   "source": [
    "#### Model building"
   ]
  },
  {
   "cell_type": "code",
   "execution_count": 4,
   "metadata": {},
   "outputs": [
    {
     "name": "stdout",
     "output_type": "stream",
     "text": [
      "model loaded\n"
     ]
    }
   ],
   "source": [
    "testing_model = False\n",
    "\n",
    "#define train/test split\n",
    "x_train,x_test,y_train,y_test = train_test_split(all_text['Text'],all_text['Code'])\n",
    "\n",
    "if testing_model:\n",
    " 'test code here'\n",
    " \n",
    "else:\n",
    "    # Default to the pretrained/saved model used in control model\n",
    "    model = BertModel(x_train, y_train, x_test, y_test, 10)\n",
    "    model.load_model(path='control/model')\n"
   ]
  }
 ],
 "metadata": {
  "interpreter": {
   "hash": "df4149841e132ab13f2b393b64f0f6daa407b0752c34bc27481ac15770fb4f14"
  },
  "kernelspec": {
   "display_name": "Python 3.7.11 ('textML')",
   "language": "python",
   "name": "python3"
  },
  "language_info": {
   "codemirror_mode": {
    "name": "ipython",
    "version": 3
   },
   "file_extension": ".py",
   "mimetype": "text/x-python",
   "name": "python",
   "nbconvert_exporter": "python",
   "pygments_lexer": "ipython3",
   "version": "3.7.11"
  },
  "orig_nbformat": 4
 },
 "nbformat": 4,
 "nbformat_minor": 2
}
