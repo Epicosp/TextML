{
 "cells": [
  {
   "cell_type": "markdown",
   "metadata": {},
   "source": [
    "### A prototyping notebook for quickly testing and troubleshooting new functions or issues"
   ]
  },
  {
   "cell_type": "markdown",
   "metadata": {},
   "source": [
    "#### Imports"
   ]
  },
  {
   "cell_type": "code",
   "execution_count": 111,
   "metadata": {},
   "outputs": [],
   "source": [
    "import src.api_call as ac\n",
    "import pandas as pd\n",
    "import src.text_process as tp\n",
    "from sklearn.model_selection import train_test_split\n",
    "import src.bert_model as bm\n",
    "import src.model_evaluation as me\n",
    "from pathlib import Path\n",
    "import tensorflow as tf\n",
    "import tensorflow_text as tf_text\n",
    "import matplotlib.pyplot as plt\n",
    "import seaborn as sns"
   ]
  },
  {
   "cell_type": "markdown",
   "metadata": {},
   "source": [
    "#### API test section"
   ]
  },
  {
   "cell_type": "code",
   "execution_count": 2,
   "metadata": {},
   "outputs": [
    {
     "name": "stdout",
     "output_type": "stream",
     "text": [
      "Using local test files\n"
     ]
    }
   ],
   "source": [
    "# Change to true if testing API code\n",
    "testing_api = False\n",
    "if testing_api:\n",
    "    ''' include API test code here'''\n",
    "\n",
    "else:\n",
    "    # Default to locally saved text data\n",
    "    print ('Using local test files')\n",
    "    test_set = {\n",
    "    'Blockchain':0,\n",
    "    'Cryptocurrency':1, \n",
    "    'Genetic engineering':2, \n",
    "    'Machine learning':3, \n",
    "    'Nanotechnology':4, \n",
    "    'Quantum computing':5, \n",
    "    'Robotics':6, \n",
    "    'Social engineering':7, \n",
    "    'Space exploration':8, \n",
    "    'Virtual reality':9\n",
    "    }\n",
    "    \n"
   ]
  },
  {
   "cell_type": "markdown",
   "metadata": {},
   "source": [
    "#### Text processing"
   ]
  },
  {
   "cell_type": "code",
   "execution_count": 3,
   "metadata": {},
   "outputs": [],
   "source": [
    "# Change to true if testing text processing\n",
    "testing_text_process = False\n",
    "\n",
    "if testing_text_process:\n",
    "    '''text processing tests here'''\n",
    "else:\n",
    "    # Default to saved preprocessed text used in control model\n",
    "    all_text = pd.read_csv('control/sample_data/clean_data.csv')"
   ]
  },
  {
   "cell_type": "markdown",
   "metadata": {},
   "source": [
    "#### Model building"
   ]
  },
  {
   "cell_type": "code",
   "execution_count": 4,
   "metadata": {},
   "outputs": [
    {
     "name": "stdout",
     "output_type": "stream",
     "text": [
      "model loaded\n"
     ]
    }
   ],
   "source": [
    "testing_model = False\n",
    "\n",
    "#define train/test split\n",
    "x_train,x_test,y_train,y_test = train_test_split(all_text['Text'],all_text['Code'])\n",
    "\n",
    "if testing_model:\n",
    "    #generate a model\n",
    "    model = bm.generate_model(len(test_set))\n",
    "\n",
    "    #train model\n",
    "    model_history, train_time, eval = bm.compile_fit_evaluate(model, x_train, y_train, x_test, y_test)\n",
    "else:\n",
    "    # Default to the pretrained/saved model used in control model\n",
    "    model = tf.keras.models.load_model('control/model')\n",
    "    print ('model loaded')\n",
    "\n"
   ]
  },
  {
   "cell_type": "markdown",
   "metadata": {},
   "source": [
    "#### Evaluation"
   ]
  },
  {
   "cell_type": "code",
   "execution_count": 5,
   "metadata": {},
   "outputs": [],
   "source": [
    "# generate predictions\n",
    "predictions = model.predict(x_test)\n"
   ]
  },
  {
   "cell_type": "code",
   "execution_count": null,
   "metadata": {},
   "outputs": [],
   "source": [
    "testing_evaluation = True\n",
    "\n",
    "if testing_evaluation:\n",
    "    confusion_mtx = me.confusion_matrix(predictions, y_test)\n",
    "    confusion_mtx = me.conf_mtx_weights(confusion_mtx, y_test)\n",
    "    \n",
    "    fig, ax = plt.subplots(figsize=(10,8))\n",
    "    sns.heatmap(confusion_mtx, annot=True, linewidths=.5, ax=ax)\n",
    "else:\n",
    "    # Default to evaluation used in main\n",
    "\n",
    "    #generate confusion matrix, save to local file (will overwrite previous)\n",
    "\n",
    "    me.confusion_matrix(model, x_test, y_test, 'control')\n",
    "\n",
    "    # save text and model information (will overwrite previous)\n",
    "    # me.save_model_data(model,eval,model_history, 'control')"
   ]
  }
 ],
 "metadata": {
  "interpreter": {
   "hash": "df4149841e132ab13f2b393b64f0f6daa407b0752c34bc27481ac15770fb4f14"
  },
  "kernelspec": {
   "display_name": "Python 3.7.11 ('textML')",
   "language": "python",
   "name": "python3"
  },
  "language_info": {
   "codemirror_mode": {
    "name": "ipython",
    "version": 3
   },
   "file_extension": ".py",
   "mimetype": "text/x-python",
   "name": "python",
   "nbconvert_exporter": "python",
   "pygments_lexer": "ipython3",
   "version": "3.7.11"
  },
  "orig_nbformat": 4
 },
 "nbformat": 4,
 "nbformat_minor": 2
}
