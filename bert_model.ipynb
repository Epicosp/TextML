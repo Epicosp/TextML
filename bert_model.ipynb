{
 "cells": [
  {
   "cell_type": "code",
   "execution_count": 1,
   "metadata": {},
   "outputs": [],
   "source": [
    "#imports\n",
    "import tensorflow as tf\n",
    "import tensorflow_hub as hub\n",
    "import tensorflow_text\n",
    "import pandas as pd\n",
    "import numpy as np\n",
    "from time import time\n",
    "from sklearn.model_selection import train_test_split\n"
   ]
  },
  {
   "cell_type": "code",
   "execution_count": 2,
   "metadata": {},
   "outputs": [
    {
     "data": {
      "text/html": [
       "<div>\n",
       "<style scoped>\n",
       "    .dataframe tbody tr th:only-of-type {\n",
       "        vertical-align: middle;\n",
       "    }\n",
       "\n",
       "    .dataframe tbody tr th {\n",
       "        vertical-align: top;\n",
       "    }\n",
       "\n",
       "    .dataframe thead tr th {\n",
       "        text-align: left;\n",
       "    }\n",
       "\n",
       "    .dataframe thead tr:last-of-type th {\n",
       "        text-align: right;\n",
       "    }\n",
       "</style>\n",
       "<table border=\"1\" class=\"dataframe\">\n",
       "  <thead>\n",
       "    <tr>\n",
       "      <th></th>\n",
       "      <th colspan=\"8\" halign=\"left\">Code</th>\n",
       "    </tr>\n",
       "    <tr>\n",
       "      <th></th>\n",
       "      <th>count</th>\n",
       "      <th>mean</th>\n",
       "      <th>std</th>\n",
       "      <th>min</th>\n",
       "      <th>25%</th>\n",
       "      <th>50%</th>\n",
       "      <th>75%</th>\n",
       "      <th>max</th>\n",
       "    </tr>\n",
       "    <tr>\n",
       "      <th>Category</th>\n",
       "      <th></th>\n",
       "      <th></th>\n",
       "      <th></th>\n",
       "      <th></th>\n",
       "      <th></th>\n",
       "      <th></th>\n",
       "      <th></th>\n",
       "      <th></th>\n",
       "    </tr>\n",
       "  </thead>\n",
       "  <tbody>\n",
       "    <tr>\n",
       "      <th>Blockchain</th>\n",
       "      <td>1572.0</td>\n",
       "      <td>0.0</td>\n",
       "      <td>0.0</td>\n",
       "      <td>0.0</td>\n",
       "      <td>0.0</td>\n",
       "      <td>0.0</td>\n",
       "      <td>0.0</td>\n",
       "      <td>0.0</td>\n",
       "    </tr>\n",
       "    <tr>\n",
       "      <th>Cryptocurrency</th>\n",
       "      <td>1352.0</td>\n",
       "      <td>1.0</td>\n",
       "      <td>0.0</td>\n",
       "      <td>1.0</td>\n",
       "      <td>1.0</td>\n",
       "      <td>1.0</td>\n",
       "      <td>1.0</td>\n",
       "      <td>1.0</td>\n",
       "    </tr>\n",
       "    <tr>\n",
       "      <th>Genetic engineering</th>\n",
       "      <td>957.0</td>\n",
       "      <td>2.0</td>\n",
       "      <td>0.0</td>\n",
       "      <td>2.0</td>\n",
       "      <td>2.0</td>\n",
       "      <td>2.0</td>\n",
       "      <td>2.0</td>\n",
       "      <td>2.0</td>\n",
       "    </tr>\n",
       "    <tr>\n",
       "      <th>Machine learning</th>\n",
       "      <td>648.0</td>\n",
       "      <td>3.0</td>\n",
       "      <td>0.0</td>\n",
       "      <td>3.0</td>\n",
       "      <td>3.0</td>\n",
       "      <td>3.0</td>\n",
       "      <td>3.0</td>\n",
       "      <td>3.0</td>\n",
       "    </tr>\n",
       "    <tr>\n",
       "      <th>Nanotechnology</th>\n",
       "      <td>1489.0</td>\n",
       "      <td>4.0</td>\n",
       "      <td>0.0</td>\n",
       "      <td>4.0</td>\n",
       "      <td>4.0</td>\n",
       "      <td>4.0</td>\n",
       "      <td>4.0</td>\n",
       "      <td>4.0</td>\n",
       "    </tr>\n",
       "    <tr>\n",
       "      <th>Quantum computing</th>\n",
       "      <td>1606.0</td>\n",
       "      <td>5.0</td>\n",
       "      <td>0.0</td>\n",
       "      <td>5.0</td>\n",
       "      <td>5.0</td>\n",
       "      <td>5.0</td>\n",
       "      <td>5.0</td>\n",
       "      <td>5.0</td>\n",
       "    </tr>\n",
       "    <tr>\n",
       "      <th>Robotics</th>\n",
       "      <td>910.0</td>\n",
       "      <td>6.0</td>\n",
       "      <td>0.0</td>\n",
       "      <td>6.0</td>\n",
       "      <td>6.0</td>\n",
       "      <td>6.0</td>\n",
       "      <td>6.0</td>\n",
       "      <td>6.0</td>\n",
       "    </tr>\n",
       "    <tr>\n",
       "      <th>Social engineering</th>\n",
       "      <td>895.0</td>\n",
       "      <td>7.0</td>\n",
       "      <td>0.0</td>\n",
       "      <td>7.0</td>\n",
       "      <td>7.0</td>\n",
       "      <td>7.0</td>\n",
       "      <td>7.0</td>\n",
       "      <td>7.0</td>\n",
       "    </tr>\n",
       "    <tr>\n",
       "      <th>Space exploration</th>\n",
       "      <td>1308.0</td>\n",
       "      <td>8.0</td>\n",
       "      <td>0.0</td>\n",
       "      <td>8.0</td>\n",
       "      <td>8.0</td>\n",
       "      <td>8.0</td>\n",
       "      <td>8.0</td>\n",
       "      <td>8.0</td>\n",
       "    </tr>\n",
       "    <tr>\n",
       "      <th>Virtual reality</th>\n",
       "      <td>646.0</td>\n",
       "      <td>9.0</td>\n",
       "      <td>0.0</td>\n",
       "      <td>9.0</td>\n",
       "      <td>9.0</td>\n",
       "      <td>9.0</td>\n",
       "      <td>9.0</td>\n",
       "      <td>9.0</td>\n",
       "    </tr>\n",
       "  </tbody>\n",
       "</table>\n",
       "</div>"
      ],
      "text/plain": [
       "                       Code                                   \n",
       "                      count mean  std  min  25%  50%  75%  max\n",
       "Category                                                      \n",
       "Blockchain           1572.0  0.0  0.0  0.0  0.0  0.0  0.0  0.0\n",
       "Cryptocurrency       1352.0  1.0  0.0  1.0  1.0  1.0  1.0  1.0\n",
       "Genetic engineering   957.0  2.0  0.0  2.0  2.0  2.0  2.0  2.0\n",
       "Machine learning      648.0  3.0  0.0  3.0  3.0  3.0  3.0  3.0\n",
       "Nanotechnology       1489.0  4.0  0.0  4.0  4.0  4.0  4.0  4.0\n",
       "Quantum computing    1606.0  5.0  0.0  5.0  5.0  5.0  5.0  5.0\n",
       "Robotics              910.0  6.0  0.0  6.0  6.0  6.0  6.0  6.0\n",
       "Social engineering    895.0  7.0  0.0  7.0  7.0  7.0  7.0  7.0\n",
       "Space exploration    1308.0  8.0  0.0  8.0  8.0  8.0  8.0  8.0\n",
       "Virtual reality       646.0  9.0  0.0  9.0  9.0  9.0  9.0  9.0"
      ]
     },
     "execution_count": 2,
     "metadata": {},
     "output_type": "execute_result"
    }
   ],
   "source": [
    "#read text data\n",
    "df = pd.read_csv('processed_text/NLP_data_1.csv')\n",
    "#verify data groups\n",
    "df.groupby('Category').describe()"
   ]
  },
  {
   "cell_type": "code",
   "execution_count": 3,
   "metadata": {},
   "outputs": [],
   "source": [
    "#train/test split\n",
    "\n",
    "X_train,X_test,y_train,y_test = train_test_split(df['Text'],df['Code'])"
   ]
  },
  {
   "cell_type": "code",
   "execution_count": 4,
   "metadata": {},
   "outputs": [
    {
     "data": {
      "text/plain": [
       "5    1195\n",
       "0    1184\n",
       "4    1094\n",
       "1    1030\n",
       "8     981\n",
       "2     729\n",
       "6     682\n",
       "7     681\n",
       "3     489\n",
       "9     472\n",
       "Name: Code, dtype: int64"
      ]
     },
     "execution_count": 4,
     "metadata": {},
     "output_type": "execute_result"
    }
   ],
   "source": [
    "y_train.value_counts()"
   ]
  },
  {
   "cell_type": "code",
   "execution_count": 5,
   "metadata": {},
   "outputs": [
    {
     "data": {
      "text/plain": [
       "5    411\n",
       "4    395\n",
       "0    388\n",
       "8    327\n",
       "1    322\n",
       "6    228\n",
       "2    228\n",
       "7    214\n",
       "9    174\n",
       "3    159\n",
       "Name: Code, dtype: int64"
      ]
     },
     "execution_count": 5,
     "metadata": {},
     "output_type": "execute_result"
    }
   ],
   "source": [
    "y_test.value_counts()"
   ]
  },
  {
   "cell_type": "code",
   "execution_count": 8,
   "metadata": {},
   "outputs": [
    {
     "data": {
      "text/html": [
       "<div>\n",
       "<style scoped>\n",
       "    .dataframe tbody tr th:only-of-type {\n",
       "        vertical-align: middle;\n",
       "    }\n",
       "\n",
       "    .dataframe tbody tr th {\n",
       "        vertical-align: top;\n",
       "    }\n",
       "\n",
       "    .dataframe thead th {\n",
       "        text-align: right;\n",
       "    }\n",
       "</style>\n",
       "<table border=\"1\" class=\"dataframe\">\n",
       "  <thead>\n",
       "    <tr style=\"text-align: right;\">\n",
       "      <th></th>\n",
       "      <th>x_test</th>\n",
       "      <th>y_test</th>\n",
       "    </tr>\n",
       "  </thead>\n",
       "  <tbody>\n",
       "    <tr>\n",
       "      <th>10842</th>\n",
       "      <td>the virtual reality \\nexperience should suppor...</td>\n",
       "      <td>9</td>\n",
       "    </tr>\n",
       "    <tr>\n",
       "      <th>10368</th>\n",
       "      <td>johnson presented a \\nhope that the new intern...</td>\n",
       "      <td>8</td>\n",
       "    </tr>\n",
       "    <tr>\n",
       "      <th>10797</th>\n",
       "      <td>there are also minimum technical requirements ...</td>\n",
       "      <td>9</td>\n",
       "    </tr>\n",
       "    <tr>\n",
       "      <th>8023</th>\n",
       "      <td>• what causes some collegiate robotics competi...</td>\n",
       "      <td>6</td>\n",
       "    </tr>\n",
       "    <tr>\n",
       "      <th>588</th>\n",
       "      <td>also, incentive features such as crypto\\nasset...</td>\n",
       "      <td>0</td>\n",
       "    </tr>\n",
       "    <tr>\n",
       "      <th>...</th>\n",
       "      <td>...</td>\n",
       "      <td>...</td>\n",
       "    </tr>\n",
       "    <tr>\n",
       "      <th>7408</th>\n",
       "      <td>platform heterogeneity – the published technic...</td>\n",
       "      <td>5</td>\n",
       "    </tr>\n",
       "    <tr>\n",
       "      <th>1359</th>\n",
       "      <td>the impact of blockchain on the audit professi...</td>\n",
       "      <td>0</td>\n",
       "    </tr>\n",
       "    <tr>\n",
       "      <th>9726</th>\n",
       "      <td>additionally, ac had a difficulty optimizing i...</td>\n",
       "      <td>8</td>\n",
       "    </tr>\n",
       "    <tr>\n",
       "      <th>7450</th>\n",
       "      <td>due to difficulties in quickly launching addit...</td>\n",
       "      <td>5</td>\n",
       "    </tr>\n",
       "    <tr>\n",
       "      <th>5853</th>\n",
       "      <td>in this chapter, \\r\\nnanotechnology is discuss...</td>\n",
       "      <td>4</td>\n",
       "    </tr>\n",
       "  </tbody>\n",
       "</table>\n",
       "<p>2846 rows × 2 columns</p>\n",
       "</div>"
      ],
      "text/plain": [
       "                                                  x_test  y_test\n",
       "10842  the virtual reality \\nexperience should suppor...       9\n",
       "10368  johnson presented a \\nhope that the new intern...       8\n",
       "10797  there are also minimum technical requirements ...       9\n",
       "8023   • what causes some collegiate robotics competi...       6\n",
       "588    also, incentive features such as crypto\\nasset...       0\n",
       "...                                                  ...     ...\n",
       "7408   platform heterogeneity – the published technic...       5\n",
       "1359   the impact of blockchain on the audit professi...       0\n",
       "9726   additionally, ac had a difficulty optimizing i...       8\n",
       "7450   due to difficulties in quickly launching addit...       5\n",
       "5853   in this chapter, \\r\\nnanotechnology is discuss...       4\n",
       "\n",
       "[2846 rows x 2 columns]"
      ]
     },
     "execution_count": 8,
     "metadata": {},
     "output_type": "execute_result"
    }
   ],
   "source": [
    "test_data = pd.DataFrame()\n",
    "test_data['x_test'] = X_test\n",
    "test_data['y_test'] = y_test\n",
    "#save test data for use later\n",
    "test_data.to_csv('NLP_1_test_data.csv')\n",
    "test_data"
   ]
  },
  {
   "cell_type": "code",
   "execution_count": 7,
   "metadata": {},
   "outputs": [],
   "source": [
    "#BERT base (v4) preprocessing and encoder.\n",
    "preprocess_url = \"https://tfhub.dev/tensorflow/bert_en_uncased_preprocess/3\"\n",
    "encoder_url = \"https://tfhub.dev/tensorflow/bert_en_uncased_L-12_H-768_A-12/4\"\n",
    "bert_preprocess_model = hub.KerasLayer(preprocess_url)\n",
    "bert_encoder = hub.KerasLayer(encoder_url)"
   ]
  },
  {
   "cell_type": "code",
   "execution_count": 8,
   "metadata": {},
   "outputs": [
    {
     "name": "stdout",
     "output_type": "stream",
     "text": [
      "Model: \"model\"\n",
      "__________________________________________________________________________________________________\n",
      " Layer (type)                   Output Shape         Param #     Connected to                     \n",
      "==================================================================================================\n",
      " text (InputLayer)              [(None,)]            0           []                               \n",
      "                                                                                                  \n",
      " keras_layer (KerasLayer)       {'input_word_ids':   0           ['text[0][0]']                   \n",
      "                                (None, 128),                                                      \n",
      "                                 'input_type_ids':                                                \n",
      "                                (None, 128),                                                      \n",
      "                                 'input_mask': (Non                                               \n",
      "                                e, 128)}                                                          \n",
      "                                                                                                  \n",
      " keras_layer_1 (KerasLayer)     {'encoder_outputs':  109482241   ['keras_layer[0][0]',            \n",
      "                                 [(None, 128, 768),               'keras_layer[0][1]',            \n",
      "                                 (None, 128, 768),                'keras_layer[0][2]']            \n",
      "                                 (None, 128, 768),                                                \n",
      "                                 (None, 128, 768),                                                \n",
      "                                 (None, 128, 768),                                                \n",
      "                                 (None, 128, 768),                                                \n",
      "                                 (None, 128, 768),                                                \n",
      "                                 (None, 128, 768),                                                \n",
      "                                 (None, 128, 768),                                                \n",
      "                                 (None, 128, 768),                                                \n",
      "                                 (None, 128, 768),                                                \n",
      "                                 (None, 128, 768)],                                               \n",
      "                                 'pooled_output': (                                               \n",
      "                                None, 768),                                                       \n",
      "                                 'default': (None,                                                \n",
      "                                768),                                                             \n",
      "                                 'sequence_output':                                               \n",
      "                                 (None, 128, 768)}                                                \n",
      "                                                                                                  \n",
      " dropout (Dropout)              (None, 768)          0           ['keras_layer_1[0][13]']         \n",
      "                                                                                                  \n",
      " output (Dense)                 (None, 10)           7690        ['dropout[0][0]']                \n",
      "                                                                                                  \n",
      "==================================================================================================\n",
      "Total params: 109,489,931\n",
      "Trainable params: 7,690\n",
      "Non-trainable params: 109,482,241\n",
      "__________________________________________________________________________________________________\n"
     ]
    }
   ],
   "source": [
    "#NPL architechture consisting of an input layer with\n",
    "#neurons equal to the BERT output length. A dropout layer with 10% attenuation,\n",
    "#and a 10 neuron output layer.\n",
    "text_input = tf.keras.layers.Input(shape=(), dtype=tf.string, name='text')\n",
    "\n",
    "preprocessed_text = bert_preprocess_model(text_input)\n",
    "outputs = bert_encoder(preprocessed_text)\n",
    "\n",
    "d = tf.keras.layers.Dropout(0.1, name='dropout')(outputs['pooled_output'])\n",
    "d = tf.keras.layers.Dense(10, activation='sigmoid', name='output')(d)\n",
    "\n",
    "model = tf.keras.Model(inputs=[text_input], outputs = [d])\n",
    "model.summary()"
   ]
  },
  {
   "cell_type": "code",
   "execution_count": 9,
   "metadata": {},
   "outputs": [
    {
     "name": "stdout",
     "output_type": "stream",
     "text": [
      "Epoch 1/10\n"
     ]
    },
    {
     "name": "stderr",
     "output_type": "stream",
     "text": [
      "C:\\Users\\Username_\\.conda\\envs\\textML\\lib\\site-packages\\tensorflow\\python\\util\\dispatch.py:1096: UserWarning: \"`sparse_categorical_crossentropy` received `from_logits=True`, but the `output` argument was produced by a sigmoid or softmax activation and thus does not represent logits. Was this intended?\"\n",
      "  return dispatch_target(*args, **kwargs)\n"
     ]
    },
    {
     "name": "stdout",
     "output_type": "stream",
     "text": [
      "267/267 [==============================] - 148s 507ms/step - loss: 2.1296 - accuracy: 0.2435\n",
      "Epoch 2/10\n",
      "267/267 [==============================] - 137s 511ms/step - loss: 1.8728 - accuracy: 0.3706\n",
      "Epoch 3/10\n",
      "267/267 [==============================] - 136s 510ms/step - loss: 1.7191 - accuracy: 0.4343\n",
      "Epoch 4/10\n",
      "267/267 [==============================] - 136s 510ms/step - loss: 1.6074 - accuracy: 0.4808\n",
      "Epoch 5/10\n",
      "267/267 [==============================] - 136s 510ms/step - loss: 1.5285 - accuracy: 0.5145\n",
      "Epoch 6/10\n",
      "267/267 [==============================] - 136s 510ms/step - loss: 1.4683 - accuracy: 0.5221\n",
      "Epoch 7/10\n",
      "267/267 [==============================] - 136s 510ms/step - loss: 1.4177 - accuracy: 0.5487\n",
      "Epoch 8/10\n",
      "267/267 [==============================] - 135s 504ms/step - loss: 1.3745 - accuracy: 0.5564\n",
      "Epoch 9/10\n",
      "267/267 [==============================] - 133s 498ms/step - loss: 1.3484 - accuracy: 0.5592\n",
      "Epoch 10/10\n",
      "267/267 [==============================] - 133s 497ms/step - loss: 1.3226 - accuracy: 0.5702\n"
     ]
    }
   ],
   "source": [
    "#compile and fit\n",
    "model.compile(optimizer=\"adam\", loss=tf.keras.losses.SparseCategoricalCrossentropy(from_logits=True), metrics=[\"accuracy\"])\n",
    "start = time()\n",
    "history = model.fit(X_train,y_train,epochs=10)\n",
    "train_time = (time()-start)"
   ]
  },
  {
   "cell_type": "code",
   "execution_count": 10,
   "metadata": {},
   "outputs": [
    {
     "name": "stdout",
     "output_type": "stream",
     "text": [
      "89/89 [==============================] - 46s 496ms/step - loss: 1.2435 - accuracy: 0.6174\n"
     ]
    }
   ],
   "source": [
    "\n",
    "eval = model.evaluate(X_test,y_test)"
   ]
  },
  {
   "cell_type": "code",
   "execution_count": 18,
   "metadata": {},
   "outputs": [],
   "source": [
    "# saves the evaluation, loss and acuracy into a csv file,\n",
    "# saves the trained model as a keras .h5 file\n",
    "# saves the model architecture summary as a .txt file\n",
    "def save_model_data(model, model_evaluation, model_history, model_name):\n",
    "    # initilize df1 and add evaluation results\n",
    "    eval = pd.DataFrame(model_evaluation)\n",
    "    eval = eval.T\n",
    "    eval['epoch'] = 'evaluation'\n",
    "    eval = eval.rename(columns = {0:'loss',1:'accuracy'})\n",
    "    # initilize df2 and add .fit metrics\n",
    "    history = pd.DataFrame(model_history.history)\n",
    "    history['epoch'] = np.arange(len(history))\n",
    "    history['epoch'] = history['epoch'].apply(lambda x: x + 1)\n",
    "    # combine df1 and df2\n",
    "    data = history.append(eval)\n",
    "    # export to csv\n",
    "    data.to_csv(str(model_name + '.csv'))\n",
    "    # save the model\n",
    "    model.save(model_name)\n",
    "    # save model architecture, by user: sparklingdew \n",
    "    # https://stackoverflow.com/questions/45199047/how-to-save-model-summary-to-file-in-keras\n",
    "    with open('modelsummary.txt', 'w') as f:\n",
    "        model.summary(print_fn=lambda x: f.write(x + '\\n'))"
   ]
  },
  {
   "cell_type": "code",
   "execution_count": 19,
   "metadata": {},
   "outputs": [],
   "source": [
    "save_model_data(model,eval,history,'NLP_1')"
   ]
  },
  {
   "cell_type": "code",
   "execution_count": 15,
   "metadata": {},
   "outputs": [
    {
     "name": "stdout",
     "output_type": "stream",
     "text": [
      "2.2751524527867635\n"
     ]
    }
   ],
   "source": [
    "print(train_time)"
   ]
  }
 ],
 "metadata": {
  "interpreter": {
   "hash": "df4149841e132ab13f2b393b64f0f6daa407b0752c34bc27481ac15770fb4f14"
  },
  "kernelspec": {
   "display_name": "Python 3.7.11 64-bit ('textML': conda)",
   "language": "python",
   "name": "python3"
  },
  "language_info": {
   "codemirror_mode": {
    "name": "ipython",
    "version": 3
   },
   "file_extension": ".py",
   "mimetype": "text/x-python",
   "name": "python",
   "nbconvert_exporter": "python",
   "pygments_lexer": "ipython3",
   "version": "3.7.11"
  },
  "orig_nbformat": 4
 },
 "nbformat": 4,
 "nbformat_minor": 2
}
